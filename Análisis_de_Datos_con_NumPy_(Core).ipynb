{
  "nbformat": 4,
  "nbformat_minor": 0,
  "metadata": {
    "colab": {
      "provenance": [],
      "authorship_tag": "ABX9TyMNdqzBiCB/1NgSPQwPYaPY",
      "include_colab_link": true
    },
    "kernelspec": {
      "name": "python3",
      "display_name": "Python 3"
    },
    "language_info": {
      "name": "python"
    }
  },
  "cells": [
    {
      "cell_type": "markdown",
      "metadata": {
        "id": "view-in-github",
        "colab_type": "text"
      },
      "source": [
        "<a href=\"https://colab.research.google.com/github/analiarojas2929/Curso-Ciencia-de-datos-sonda/blob/main/An%C3%A1lisis_de_Datos_con_NumPy_(Core).ipynb\" target=\"_parent\"><img src=\"https://colab.research.google.com/assets/colab-badge.svg\" alt=\"Open In Colab\"/></a>"
      ]
    },
    {
      "cell_type": "markdown",
      "source": [
        "#Análisis de Datos con NumPy (Core)"
      ],
      "metadata": {
        "id": "zv3GP91hQpWY"
      }
    },
    {
      "cell_type": "markdown",
      "source": [
        "###Objetivo\n",
        "\n",
        "Evaluar las capacidades de los estudiantes en el uso de NumPy para la creación y manipulación de arrays, operaciones matemáticas, indexación, slicing y agregaciones estadísticas. Este ejercicio también busca desarrollar habilidades analíticas y de programación lógica.\n",
        "\n"
      ],
      "metadata": {
        "id": "6IyDeE5ePwVJ"
      }
    },
    {
      "cell_type": "markdown",
      "source": [
        "##Instrucciones\n",
        "\n",
        "###Descripción del Problema:\n",
        "\n",
        "Imagina que estás trabajando como analista de datos para una empresa que recopila información sobre las ventas diarias de diferentes productos en varias tiendas. Necesitas analizar estos datos para extraer información útil y presentar un resumen de las ventas.\n",
        "\n",
        "###Requisitos del Sistema:\n",
        "\n",
        "El programa debe generar datos de ventas de manera aleatoria para 10 productos diferentes en 5 tiendas distintas durante 7 días (una semana).\n",
        "\n",
        "Los datos deben estar almacenados en un array de NumPy de 3 dimensiones (productos, tiendas, días).\n",
        "\n",
        "Debes calcular y mostrar la siguiente información:\n",
        "\n",
        "Total de ventas por producto a lo largo de la semana.\n",
        "\n",
        "Total de ventas por tienda a lo largo de la semana.\n",
        "\n",
        "Promedio de ventas por producto por día.\n",
        "\n",
        "Promedio de ventas por tienda por día.\n",
        "\n",
        "Producto con mayor y menor ventas totales en la semana.\n",
        "\n",
        "Tienda con mayor y menor ventas totales en la semana.\n",
        "\n",
        "###Detalles Específicos:\n",
        "\n",
        "Genera los datos de ventas aleatorias usando np.random.randint, con valores entre 0 y 100.\n",
        "\n",
        "Usa funciones de NumPy para calcular las sumas y promedios.\n",
        "\n",
        "Maneja posibles errores o valores inesperados.\n",
        "\n",
        "Presenta los resultados de manera clara y estructurada.\n",
        "\n",
        "###Consideraciones Adicionales:\n",
        "\n",
        "Organiza tu código utilizando funciones para cada una de las tareas principales.\n",
        "\n",
        "Usa comentarios para explicar cada sección de tu código.\n",
        "\n",
        "Asegúrate de que el código sea robusto y maneje casos en los que los datos generados puedan estar fuera de los rangos esperados."
      ],
      "metadata": {
        "id": "Gj5RPgrEQvDn"
      }
    },
    {
      "cell_type": "code",
      "source": [
        "import numpy as np"
      ],
      "metadata": {
        "id": "JVPMwiQrQBeb"
      },
      "execution_count": 2,
      "outputs": []
    },
    {
      "cell_type": "code",
      "execution_count": 3,
      "metadata": {
        "id": "U-71sDA8PvXj"
      },
      "outputs": [],
      "source": [
        "def generar_datos_ventas(productos, tiendas, dias):\n",
        "    \"\"\"\n",
        "    Genera datos aleatorios de ventas entre 0 y 100 para los productos, tiendas y días indicados.\n",
        "    \"\"\"\n",
        "    try:\n",
        "        datos = np.random.randint(0, 101, (productos, tiendas, dias))\n",
        "        return datos\n",
        "    except Exception as e:\n",
        "        print(\"Error al generar datos:\", e)\n",
        "        return np.zeros((productos, tiendas, dias), dtype=int)\n",
        "\n",
        "def calcular_totales_ventas_por_producto(datos):\n",
        "    \"\"\"\n",
        "    Calcula el total de ventas por producto sumando sobre tiendas y días.\n",
        "    \"\"\"\n",
        "    return np.sum(datos, axis=(1, 2))\n",
        "\n",
        "def calcular_totales_ventas_por_tienda(datos):\n",
        "    \"\"\"\n",
        "    Calcula el total de ventas por tienda sumando sobre productos y días.\n",
        "    \"\"\"\n",
        "    return np.sum(datos, axis=(0, 2))\n",
        "\n",
        "def calcular_promedio_ventas_por_producto(datos):\n",
        "    \"\"\"\n",
        "    Calcula el promedio de ventas por producto por día.\n",
        "    \"\"\"\n",
        "    return np.mean(datos, axis=(1, 2))\n",
        "\n",
        "def calcular_promedio_ventas_por_tienda(datos):\n",
        "    \"\"\"\n",
        "    Calcula el promedio de ventas por tienda por día.\n",
        "    \"\"\"\n",
        "    return np.mean(datos, axis=(0, 2))\n",
        "\n",
        "def encontrar_producto_mayor_menor_ventas(totales_por_producto):\n",
        "    \"\"\"\n",
        "    Identifica el producto con mayor y menor ventas totales.\n",
        "    \"\"\"\n",
        "    producto_mayor = np.argmax(totales_por_producto)\n",
        "    producto_menor = np.argmin(totales_por_producto)\n",
        "    return producto_mayor, producto_menor\n",
        "\n",
        "def encontrar_tienda_mayor_menor_ventas(totales_por_tienda):\n",
        "    \"\"\"\n",
        "    Identifica la tienda con mayor y menor ventas totales.\n",
        "    \"\"\"\n",
        "    tienda_mayor = np.argmax(totales_por_tienda)\n",
        "    tienda_menor = np.argmin(totales_por_tienda)\n",
        "    return tienda_mayor, tienda_menor\n",
        "\n",
        "def imprimir_resumen(productos, tiendas, totales_p, totales_t, promedio_p, promedio_t, prod_max, prod_min, tienda_max, tienda_min):\n",
        "    \"\"\"\n",
        "    Presenta el resumen final de los análisis de ventas.\n",
        "    \"\"\"\n",
        "    print(\"\\n--- RESUMEN DE VENTAS ---\\n\")\n",
        "\n",
        "    print(\"Total de ventas por producto durante la semana:\")\n",
        "    for i in range(productos):\n",
        "        print(f\"  Producto {i}: {totales_p[i]} unidades\")\n",
        "\n",
        "    print(\"\\nTotal de ventas por tienda durante la semana:\")\n",
        "    for j in range(tiendas):\n",
        "        print(f\"  Tienda {j}: {totales_t[j]} unidades\")\n",
        "\n",
        "    print(\"\\nPromedio diario de ventas por producto:\")\n",
        "    for i in range(productos):\n",
        "        print(f\"  Producto {i}: {promedio_p[i]:.2f} unidades por día\")\n",
        "\n",
        "    print(\"\\nPromedio diario de ventas por tienda:\")\n",
        "    for j in range(tiendas):\n",
        "        print(f\"  Tienda {j}: {promedio_t[j]:.2f} unidades por día\")\n",
        "\n",
        "    print(\"\\n--- Productos Destacados ---\")\n",
        "    print(f\"Producto con más ventas: Producto {prod_max} ({totales_p[prod_max]} unidades)\")\n",
        "    print(f\"Producto con menos ventas: Producto {prod_min} ({totales_p[prod_min]} unidades)\")\n",
        "\n",
        "    print(\"\\n--- Tiendas Destacadas ---\")\n",
        "    print(f\"Tienda con más ventas: Tienda {tienda_max} ({totales_t[tienda_max]} unidades)\")\n",
        "    print(f\"Tienda con menos ventas: Tienda {tienda_min} ({totales_t[tienda_min]} unidades)\")\n"
      ]
    },
    {
      "cell_type": "code",
      "source": [
        "# Parámetros del problema\n",
        "productos = 10\n",
        "tiendas = 5\n",
        "dias = 7"
      ],
      "metadata": {
        "id": "TY4CMKycQIyS"
      },
      "execution_count": 5,
      "outputs": []
    },
    {
      "cell_type": "code",
      "source": [
        "\n",
        "# Paso 1: Generar datos aleatorios\n",
        "datos = generar_datos_ventas(productos, tiendas, dias)\n"
      ],
      "metadata": {
        "id": "fnHplytXQO8k"
      },
      "execution_count": 6,
      "outputs": []
    },
    {
      "cell_type": "code",
      "source": [
        "\n",
        "# Paso 2: Calcular métricas\n",
        "totales_por_producto = calcular_totales_ventas_por_producto(datos)\n",
        "totales_por_tienda = calcular_totales_ventas_por_tienda(datos)\n",
        "promedio_por_producto = calcular_promedio_ventas_por_producto(datos)\n",
        "promedio_por_tienda = calcular_promedio_ventas_por_tienda(datos)"
      ],
      "metadata": {
        "id": "e1TL9KZpQTZm"
      },
      "execution_count": 7,
      "outputs": []
    },
    {
      "cell_type": "code",
      "source": [
        "# Paso 3: Identificar extremos\n",
        "producto_mayor, producto_menor = encontrar_producto_mayor_menor_ventas(totales_por_producto)\n",
        "tienda_mayor, tienda_menor = encontrar_tienda_mayor_menor_ventas(totales_por_tienda)"
      ],
      "metadata": {
        "id": "X9mMjY8_QVmc"
      },
      "execution_count": 8,
      "outputs": []
    },
    {
      "cell_type": "code",
      "source": [
        "# Paso 4: Imprimir resultados\n",
        "imprimir_resumen(\n",
        "    productos, tiendas,\n",
        "    totales_por_producto,\n",
        "    totales_por_tienda,\n",
        "    promedio_por_producto,\n",
        "    promedio_por_tienda,\n",
        "    producto_mayor,\n",
        "    producto_menor,\n",
        "    tienda_mayor,\n",
        "    tienda_menor\n",
        ")"
      ],
      "metadata": {
        "colab": {
          "base_uri": "https://localhost:8080/"
        },
        "id": "aK1sIfJiQaV_",
        "outputId": "2b4a4762-776a-4c6a-f2c1-875bb3be008a"
      },
      "execution_count": 9,
      "outputs": [
        {
          "output_type": "stream",
          "name": "stdout",
          "text": [
            "\n",
            "--- RESUMEN DE VENTAS ---\n",
            "\n",
            "Total de ventas por producto durante la semana:\n",
            "  Producto 0: 1953 unidades\n",
            "  Producto 1: 1751 unidades\n",
            "  Producto 2: 1448 unidades\n",
            "  Producto 3: 1821 unidades\n",
            "  Producto 4: 2034 unidades\n",
            "  Producto 5: 1791 unidades\n",
            "  Producto 6: 1617 unidades\n",
            "  Producto 7: 1588 unidades\n",
            "  Producto 8: 1863 unidades\n",
            "  Producto 9: 1741 unidades\n",
            "\n",
            "Total de ventas por tienda durante la semana:\n",
            "  Tienda 0: 3814 unidades\n",
            "  Tienda 1: 3411 unidades\n",
            "  Tienda 2: 3479 unidades\n",
            "  Tienda 3: 3072 unidades\n",
            "  Tienda 4: 3831 unidades\n",
            "\n",
            "Promedio diario de ventas por producto:\n",
            "  Producto 0: 55.80 unidades por día\n",
            "  Producto 1: 50.03 unidades por día\n",
            "  Producto 2: 41.37 unidades por día\n",
            "  Producto 3: 52.03 unidades por día\n",
            "  Producto 4: 58.11 unidades por día\n",
            "  Producto 5: 51.17 unidades por día\n",
            "  Producto 6: 46.20 unidades por día\n",
            "  Producto 7: 45.37 unidades por día\n",
            "  Producto 8: 53.23 unidades por día\n",
            "  Producto 9: 49.74 unidades por día\n",
            "\n",
            "Promedio diario de ventas por tienda:\n",
            "  Tienda 0: 54.49 unidades por día\n",
            "  Tienda 1: 48.73 unidades por día\n",
            "  Tienda 2: 49.70 unidades por día\n",
            "  Tienda 3: 43.89 unidades por día\n",
            "  Tienda 4: 54.73 unidades por día\n",
            "\n",
            "--- Productos Destacados ---\n",
            "Producto con más ventas: Producto 4 (2034 unidades)\n",
            "Producto con menos ventas: Producto 2 (1448 unidades)\n",
            "\n",
            "--- Tiendas Destacadas ---\n",
            "Tienda con más ventas: Tienda 4 (3831 unidades)\n",
            "Tienda con menos ventas: Tienda 3 (3072 unidades)\n"
          ]
        }
      ]
    }
  ]
}