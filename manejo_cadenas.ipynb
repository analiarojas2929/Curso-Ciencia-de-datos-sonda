{
  "nbformat": 4,
  "nbformat_minor": 0,
  "metadata": {
    "colab": {
      "provenance": [],
      "authorship_tag": "ABX9TyNCmpPLh7JQZq2EL8TQr3pe",
      "include_colab_link": true
    },
    "kernelspec": {
      "name": "python3",
      "display_name": "Python 3"
    },
    "language_info": {
      "name": "python"
    }
  },
  "cells": [
    {
      "cell_type": "markdown",
      "metadata": {
        "id": "view-in-github",
        "colab_type": "text"
      },
      "source": [
        "<a href=\"https://colab.research.google.com/github/analiarojas2929/Curso-Ciencia-de-datos-sonda/blob/main/manejo_cadenas.ipynb\" target=\"_parent\"><img src=\"https://colab.research.google.com/assets/colab-badge.svg\" alt=\"Open In Colab\"/></a>"
      ]
    },
    {
      "cell_type": "markdown",
      "source": [
        "###Ejercicio 1: Saludo Personalizado\n",
        "\n",
        "Crea un programa que pida al usuario su nombre y edad, y luego imprima un saludo personalizado.\n",
        "\n",
        "Usa input para capturar el nombre y la edad.\n",
        "\n",
        "Usa print para mostrar el saludo."
      ],
      "metadata": {
        "id": "f20iWLZOXzgx"
      }
    },
    {
      "cell_type": "code",
      "execution_count": 1,
      "metadata": {
        "colab": {
          "base_uri": "https://localhost:8080/"
        },
        "id": "3_wiuUjLXtl5",
        "outputId": "7300339d-6f65-4273-d92d-be2f479fa778"
      },
      "outputs": [
        {
          "name": "stdout",
          "output_type": "stream",
          "text": [
            "¿Cuál es tu nombre? analia\n"
          ]
        }
      ],
      "source": [
        "# Solicita el nombre al usuario\n",
        "nombre = input(\"¿Cuál es tu nombre? \")"
      ]
    },
    {
      "cell_type": "code",
      "source": [
        "# Solicita el edad al usuario\n",
        "edad = input(\"¿Cuántos años tienes? \")\n",
        "edad = int(edad)  # Convertir a entero"
      ],
      "metadata": {
        "colab": {
          "base_uri": "https://localhost:8080/"
        },
        "id": "s9CIBKUjYNn2",
        "outputId": "bfb2670e-c26f-44fc-b071-2817754da147"
      },
      "execution_count": 2,
      "outputs": [
        {
          "name": "stdout",
          "output_type": "stream",
          "text": [
            "¿Cuántos años tienes? 24\n"
          ]
        }
      ]
    },
    {
      "cell_type": "code",
      "source": [
        "# Entrega el saludo personalizado\n",
        "print(f\"Hola, {nombre}! Veo que tienes {edad} años. ¡Bienvenido/a!\")"
      ],
      "metadata": {
        "colab": {
          "base_uri": "https://localhost:8080/"
        },
        "id": "lWjFX4EgYUkH",
        "outputId": "36ef4bd5-44d9-426f-8fb6-48bae18c23f5"
      },
      "execution_count": 3,
      "outputs": [
        {
          "output_type": "stream",
          "name": "stdout",
          "text": [
            "Hola, analia! Veo que tienes 24 años. ¡Bienvenido!\n"
          ]
        }
      ]
    },
    {
      "cell_type": "markdown",
      "source": [
        "###Ejercicio 2: Manipulación de Cadenas\n",
        "\n",
        "Crea una cadena con tu nombre completo.\n",
        "Usa los métodos de cadenas para:\n",
        "Convertir el nombre a mayúsculas y minúsculas.\n",
        "Contar el número de letras en tu nombre.\n",
        "Reemplazar tu primer nombre por otro nombre.\n"
      ],
      "metadata": {
        "id": "iWcOI33vZPjR"
      }
    },
    {
      "cell_type": "code",
      "source": [
        "# Cadena con el nombre completo\n",
        "nombre_completo = \"Analia Rojas Araya\""
      ],
      "metadata": {
        "id": "k-NJOVXtY1nx"
      },
      "execution_count": 4,
      "outputs": []
    },
    {
      "cell_type": "code",
      "source": [
        "# Convertir el nombre en mayúsculas\n",
        "nombre_mayusculas = nombre_completo.upper()\n",
        "print(\"En mayúsculas:\", nombre_mayusculas)"
      ],
      "metadata": {
        "colab": {
          "base_uri": "https://localhost:8080/"
        },
        "id": "XoP_-rQ6Y5dK",
        "outputId": "cc8be5a9-eedc-4a87-c4e1-107921abbdc3"
      },
      "execution_count": 5,
      "outputs": [
        {
          "output_type": "stream",
          "name": "stdout",
          "text": [
            "En mayúsculas: ANALIA ROJAS ARAYA\n"
          ]
        }
      ]
    },
    {
      "cell_type": "code",
      "source": [
        "# Convertir el nombre a minúsculas\n",
        "nombre_minusculas = nombre_completo.lower()\n",
        "print(\"En minúsculas:\", nombre_minusculas)"
      ],
      "metadata": {
        "colab": {
          "base_uri": "https://localhost:8080/"
        },
        "id": "7l6fwf8FY7dG",
        "outputId": "18c4f20f-59fc-45c8-ab46-be3e9eb73ddc"
      },
      "execution_count": 6,
      "outputs": [
        {
          "output_type": "stream",
          "name": "stdout",
          "text": [
            "En minúsculas: analia rojas araya\n"
          ]
        }
      ]
    },
    {
      "cell_type": "code",
      "source": [
        "# Contar el número de letras del nombre (ignorando espacios)\n",
        "numero_letras = len(nombre_completo.replace(\" \", \"\"))\n",
        "print(\"Número de letras (sin contar espacios):\", numero_letras)"
      ],
      "metadata": {
        "colab": {
          "base_uri": "https://localhost:8080/"
        },
        "id": "OZ7PDLf3ZCOj",
        "outputId": "7b55ab9f-dc44-4dff-9ccb-e3b12d687703"
      },
      "execution_count": 7,
      "outputs": [
        {
          "output_type": "stream",
          "name": "stdout",
          "text": [
            "Número de letras (sin contar espacios): 16\n"
          ]
        }
      ]
    },
    {
      "cell_type": "code",
      "source": [
        "# Reemplazar el primer nombre\n",
        "nuevo_nombre = nombre_completo.replace(\"Analia\", \"Camila\")\n",
        "print(\"Nombre con reemplazo:\", nuevo_nombre)\n"
      ],
      "metadata": {
        "colab": {
          "base_uri": "https://localhost:8080/"
        },
        "id": "xRWbT9YfZE0f",
        "outputId": "143d617f-a127-4637-9126-be0460a6e587"
      },
      "execution_count": 8,
      "outputs": [
        {
          "output_type": "stream",
          "name": "stdout",
          "text": [
            "Nombre con reemplazo: Camila Rojas Araya\n"
          ]
        }
      ]
    },
    {
      "cell_type": "markdown",
      "source": [
        "###Ejercicio 3: Lista de Nombres\n",
        "\n",
        "Pide al usuario que ingrese una lista de nombres separados por comas.\n",
        "Usa split para convertir esta cadena en una lista de nombres.\n",
        "Imprime cada nombre en una línea separada.\n",
        "Guarda el notebook en tu Google Drive y comparte el enlace con el instructor a través de la plataforma de la clase."
      ],
      "metadata": {
        "id": "JDaOGzNmZVj_"
      }
    },
    {
      "cell_type": "code",
      "source": [
        "# Solicitar al usuario que ingrese nombres separados por comas\n",
        "entrada = input(\"Ingresa una lista de nombres separados por comas: \")"
      ],
      "metadata": {
        "colab": {
          "base_uri": "https://localhost:8080/"
        },
        "id": "ciGy8YisZpJJ",
        "outputId": "52764ab1-7727-4065-c05e-06b46b8d14bc"
      },
      "execution_count": 12,
      "outputs": [
        {
          "name": "stdout",
          "output_type": "stream",
          "text": [
            "Ingresa una lista de nombres separados por comas: analia,camila,damaris\n"
          ]
        }
      ]
    },
    {
      "cell_type": "code",
      "source": [
        "# Convertir la cadena en una lista usando split\n",
        "lista_nombres = entrada.split(\",\")"
      ],
      "metadata": {
        "id": "ZDJiLRyxZq4x"
      },
      "execution_count": 13,
      "outputs": []
    },
    {
      "cell_type": "code",
      "source": [
        "# Imprimir cada nombre en una línea separada\n",
        "print(\"Nombres ingresados:\")\n",
        "for nombre in lista_nombres:\n",
        "    print(nombre.strip())  # .strip() elimina espacios extra alrededor del nombre"
      ],
      "metadata": {
        "colab": {
          "base_uri": "https://localhost:8080/"
        },
        "id": "abtKVTkIZuO_",
        "outputId": "47ef6220-deb7-4bce-f5a2-769fb21c0f66"
      },
      "execution_count": 14,
      "outputs": [
        {
          "output_type": "stream",
          "name": "stdout",
          "text": [
            "Nombres ingresados:\n",
            "analia\n",
            "camila\n",
            "damaris\n"
          ]
        }
      ]
    }
  ]
}