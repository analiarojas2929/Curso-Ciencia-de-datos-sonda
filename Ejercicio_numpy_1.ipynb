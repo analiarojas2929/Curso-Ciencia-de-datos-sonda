{
  "nbformat": 4,
  "nbformat_minor": 0,
  "metadata": {
    "colab": {
      "provenance": [],
      "authorship_tag": "ABX9TyOzJlrMBGgtf5UdTEj7Pft4",
      "include_colab_link": true
    },
    "kernelspec": {
      "name": "python3",
      "display_name": "Python 3"
    },
    "language_info": {
      "name": "python"
    }
  },
  "cells": [
    {
      "cell_type": "markdown",
      "metadata": {
        "id": "view-in-github",
        "colab_type": "text"
      },
      "source": [
        "<a href=\"https://colab.research.google.com/github/analiarojas2929/Curso-Ciencia-de-datos-sonda/blob/main/Ejercicio_numpy_1.ipynb\" target=\"_parent\"><img src=\"https://colab.research.google.com/assets/colab-badge.svg\" alt=\"Open In Colab\"/></a>"
      ]
    },
    {
      "cell_type": "markdown",
      "source": [
        "#Introducción a NumPy\n",
        "\n",
        "NumPy es una biblioteca fundamental para el cálculo numérico en Python. Proporciona una estructura de datos llamada array, que es más eficiente y flexible que las listas de Python para operaciones matemáticas y de manipulación de datos. Para comenzar a usar NumPy, primero debemos instalarlo y luego importarlo en nuestro entorno de trabajo."
      ],
      "metadata": {
        "id": "a1o97d0jO8Td"
      }
    },
    {
      "cell_type": "markdown",
      "source": [
        "###Instalación de NumPy:\n",
        "\n",
        " Si aún no tienes NumPy instalado, puedes instalarlo usando pip:"
      ],
      "metadata": {
        "id": "G5_j2uZdO0hQ"
      }
    },
    {
      "cell_type": "code",
      "execution_count": 1,
      "metadata": {
        "colab": {
          "base_uri": "https://localhost:8080/"
        },
        "id": "UaVQRmtYFYdJ",
        "outputId": "b6eab827-2e96-4d43-e72b-40a44ccae09c"
      },
      "outputs": [
        {
          "output_type": "stream",
          "name": "stdout",
          "text": [
            "Requirement already satisfied: numpy in /usr/local/lib/python3.11/dist-packages (2.0.2)\n"
          ]
        }
      ],
      "source": [
        "!pip install numpy"
      ]
    },
    {
      "cell_type": "markdown",
      "source": [
        "###Importar NumPy:\n",
        "\n",
        " Una vez instalado, podemos importar NumPy en nuestro script o notebook:"
      ],
      "metadata": {
        "id": "3-yRaJecO5mM"
      }
    },
    {
      "cell_type": "code",
      "source": [
        "import numpy as np"
      ],
      "metadata": {
        "id": "i3CawFIYJ9rE"
      },
      "execution_count": 2,
      "outputs": []
    },
    {
      "cell_type": "markdown",
      "source": [
        "##Creación de Arrays\n",
        "\n",
        "NumPy proporciona varias formas de crear arrays. Exploraremos algunas de las más comunes."
      ],
      "metadata": {
        "id": "9GJN-0daOvsP"
      }
    },
    {
      "cell_type": "markdown",
      "source": [
        "###Arrays desde Listas:\n",
        "\n",
        " Puedes crear un array de NumPy a partir de una lista de Python usando la función np.array"
      ],
      "metadata": {
        "id": "3Klkcq_2OrGC"
      }
    },
    {
      "cell_type": "code",
      "source": [
        "lista = [1, 2, 3, 4, 5]\n",
        "array = np.array(lista)\n",
        "print(array)\n"
      ],
      "metadata": {
        "colab": {
          "base_uri": "https://localhost:8080/"
        },
        "id": "ejHTPpJ-KAWQ",
        "outputId": "e6f82fd9-028d-4d13-d4fe-5941a0ddd6ba"
      },
      "execution_count": 3,
      "outputs": [
        {
          "output_type": "stream",
          "name": "stdout",
          "text": [
            "[1 2 3 4 5]\n"
          ]
        }
      ]
    },
    {
      "cell_type": "markdown",
      "source": [
        "###Arrays de Ceros y Unos:\n",
        "\n",
        "NumPy también proporciona funciones para crear arrays llenos de ceros o unos, lo cual es útil para inicializar arrays antes de llenarlos con datos."
      ],
      "metadata": {
        "id": "c-x272DmOii6"
      }
    },
    {
      "cell_type": "code",
      "source": [
        "array_ceros = np.zeros(5)\n",
        "print(array_ceros)\n",
        "\n",
        "array_unos = np.ones((3, 4))\n",
        "print(array_unos)"
      ],
      "metadata": {
        "colab": {
          "base_uri": "https://localhost:8080/"
        },
        "id": "cosOInK_KGaZ",
        "outputId": "23ded80d-8c52-4a68-f89f-01c2c94a284f"
      },
      "execution_count": 4,
      "outputs": [
        {
          "output_type": "stream",
          "name": "stdout",
          "text": [
            "[0. 0. 0. 0. 0.]\n",
            "[[1. 1. 1. 1.]\n",
            " [1. 1. 1. 1.]\n",
            " [1. 1. 1. 1.]]\n"
          ]
        }
      ]
    },
    {
      "cell_type": "markdown",
      "source": [
        "###Arrays con Rangos:\n",
        "\n",
        " La función np.arange crea un array con valores en un rango específico, similar a la función range de Python."
      ],
      "metadata": {
        "id": "AQokwsSCOdyR"
      }
    },
    {
      "cell_type": "code",
      "source": [
        "array_rango = np.arange(10)\n",
        "print(array_rango)\n",
        "\n",
        "array_rango_paso = np.arange(0, 10, 2)\n",
        "print(array_rango_paso)"
      ],
      "metadata": {
        "colab": {
          "base_uri": "https://localhost:8080/"
        },
        "id": "6jyFPazjKeI1",
        "outputId": "bbf95ab6-e74d-4c7b-d06d-5d83c0b67878"
      },
      "execution_count": 5,
      "outputs": [
        {
          "output_type": "stream",
          "name": "stdout",
          "text": [
            "[0 1 2 3 4 5 6 7 8 9]\n",
            "[0 2 4 6 8]\n"
          ]
        }
      ]
    },
    {
      "cell_type": "markdown",
      "source": [
        "###Arrays con Valores Aleatorios:\n",
        "\n",
        " NumPy proporciona funciones para crear arrays con valores aleatorios. Estas funciones son útiles para tareas como la inicialización aleatoria de parámetros en aprendizaje automático o para simulaciones."
      ],
      "metadata": {
        "id": "ToVX1XLhObGi"
      }
    },
    {
      "cell_type": "code",
      "source": [
        "array_aleatorio = np.random.random(5)\n",
        "print(array_aleatorio)\n",
        "\n",
        "array_aleatorio_entero = np.random.randint(0, 10, size=(3, 3))\n",
        "print(array_aleatorio_entero)"
      ],
      "metadata": {
        "colab": {
          "base_uri": "https://localhost:8080/"
        },
        "id": "MUkOXv4gKzZ_",
        "outputId": "4484e875-4b81-4273-d7c1-cc663934f8ab"
      },
      "execution_count": 6,
      "outputs": [
        {
          "output_type": "stream",
          "name": "stdout",
          "text": [
            "[0.93470965 0.1853873  0.72849587 0.40045668 0.74506001]\n",
            "[[3 0 3]\n",
            " [9 9 8]\n",
            " [2 5 9]]\n"
          ]
        }
      ]
    },
    {
      "cell_type": "markdown",
      "source": [
        "###Propiedades y Métodos de los Arrays\n",
        "\n",
        "Una vez que tenemos arrays, es importante conocer sus propiedades y algunos métodos útiles para trabajar con ellos."
      ],
      "metadata": {
        "id": "-W_7F4qUOVxB"
      }
    },
    {
      "cell_type": "code",
      "source": [
        "array = np.array([[1, 2, 3], [4, 5, 6]])\n",
        "print(array.shape)\n",
        "print(array.size)\n",
        "print(array.ndim)"
      ],
      "metadata": {
        "colab": {
          "base_uri": "https://localhost:8080/"
        },
        "id": "br-8wlGhK5GZ",
        "outputId": "069ec156-103e-4c7d-e784-72a25d40f5ef"
      },
      "execution_count": 7,
      "outputs": [
        {
          "output_type": "stream",
          "name": "stdout",
          "text": [
            "(2, 3)\n",
            "6\n",
            "2\n"
          ]
        }
      ]
    },
    {
      "cell_type": "markdown",
      "source": [
        "####Propiedades Básicas:\n",
        "\n",
        "Forma (shape): Devuelve una tupla con las dimensiones del array.\n",
        "Tamaño (size): Devuelve el número total de elementos en el array.\n",
        "Dimensión (ndim): Devuelve el número de dimensiones del array.\n",
        "\n",
        "\n",
        "####Métodos Útiles\n",
        "\n",
        "reshape: Cambia la forma del array sin cambiar sus datos.\n",
        "flatten: Convierte un array multidimensional en un array unidimensional."
      ],
      "metadata": {
        "id": "rE6lNEToOLK-"
      }
    },
    {
      "cell_type": "code",
      "source": [
        "array_reshape = array.reshape((3, 2))\n",
        "print(array_reshape)\n",
        "#[[1 2]\n",
        "# [3 4]\n",
        "# [5 6]]\n",
        "array_flatten = array.flatten()\n",
        "print(array_flatten)\n",
        "#[1 2 3 4 5 6]"
      ],
      "metadata": {
        "colab": {
          "base_uri": "https://localhost:8080/"
        },
        "id": "WIzDxBayK80i",
        "outputId": "d3219615-394e-4665-ef68-e4dd0b0dd3e8"
      },
      "execution_count": 8,
      "outputs": [
        {
          "output_type": "stream",
          "name": "stdout",
          "text": [
            "[[1 2]\n",
            " [3 4]\n",
            " [5 6]]\n",
            "[1 2 3 4 5 6]\n"
          ]
        }
      ]
    },
    {
      "cell_type": "markdown",
      "source": [
        "##Operaciones Básicas con Arrays\n",
        "\n",
        "NumPy permite realizar operaciones matemáticas básicas de manera eficiente."
      ],
      "metadata": {
        "id": "jnz_eAQsOC4_"
      }
    },
    {
      "cell_type": "markdown",
      "source": [
        "###Suma y Resta:\n",
        "\n",
        " Puedes sumar o restar arrays de la misma forma elemento por elemento."
      ],
      "metadata": {
        "id": "juDcWdqYN_Qa"
      }
    },
    {
      "cell_type": "code",
      "source": [
        "array1 = np.array([1, 2, 3])\n",
        "array2 = np.array([4, 5, 6])\n",
        "\n",
        "suma = array1 + array2\n",
        "resta = array1 - array2\n",
        "\n",
        "print(\"Suma:\", suma)\n",
        "print(\"Resta:\", resta)\n",
        "\n",
        "#Suma: [5 7 9]\n",
        "#Resta: [-3 -3 -3]"
      ],
      "metadata": {
        "colab": {
          "base_uri": "https://localhost:8080/"
        },
        "id": "-AKX19FALAdG",
        "outputId": "7f5ad50a-f48d-4748-ead5-c89120641976"
      },
      "execution_count": 10,
      "outputs": [
        {
          "output_type": "stream",
          "name": "stdout",
          "text": [
            "Suma: [5 7 9]\n",
            "Resta: [-3 -3 -3]\n"
          ]
        }
      ]
    },
    {
      "cell_type": "markdown",
      "source": [
        "###Multiplicación y División:\n",
        "\n",
        " La multiplicación y división también se realizan elemento por elemento."
      ],
      "metadata": {
        "id": "Dq-8fPfGN5R5"
      }
    },
    {
      "cell_type": "code",
      "source": [
        "multiplicacion = array1 * array2\n",
        "division = array1 / array2\n",
        "\n",
        "print(\"Multiplicación:\", multiplicacion)\n",
        "print(\"División:\", division)\n",
        "\n",
        "#Multiplicación: [ 4 10 18]\n",
        "#División: [0.25 0.4  0.5 ]"
      ],
      "metadata": {
        "colab": {
          "base_uri": "https://localhost:8080/"
        },
        "id": "GOI57KWwLOH0",
        "outputId": "e38b9178-ec0e-4ae0-dc91-a439a89ddfe9"
      },
      "execution_count": 11,
      "outputs": [
        {
          "output_type": "stream",
          "name": "stdout",
          "text": [
            "Multiplicación: [ 4 10 18]\n",
            "División: [0.25 0.4  0.5 ]\n"
          ]
        }
      ]
    },
    {
      "cell_type": "markdown",
      "source": [
        "###Operaciones Universales (ufuncs):\n",
        "\n",
        " NumPy proporciona funciones universales (ufuncs) que realizan operaciones elemento por elemento."
      ],
      "metadata": {
        "id": "988wxDQfNEM3"
      }
    },
    {
      "cell_type": "code",
      "source": [
        "array = np.array([1, 2, 3])\n",
        "\n",
        "sqrt = np.sqrt(array)\n",
        "log = np.log(array)\n",
        "\n",
        "print(\"Raíz cuadrada:\", sqrt)\n",
        "print(\"Logaritmo natural:\", log)\n",
        "\n",
        "#Raíz cuadrada: [1.         1.41421356 1.73205081]\n",
        "#Logaritmo natural: [0.         0.69314718 1.09861229"
      ],
      "metadata": {
        "colab": {
          "base_uri": "https://localhost:8080/"
        },
        "id": "Bg4qHkfGLRs2",
        "outputId": "73221c7b-7f2a-4e70-fb7b-07c8559d8c11"
      },
      "execution_count": 12,
      "outputs": [
        {
          "output_type": "stream",
          "name": "stdout",
          "text": [
            "Raíz cuadrada: [1.         1.41421356 1.73205081]\n",
            "Logaritmo natural: [0.         0.69314718 1.09861229]\n"
          ]
        }
      ]
    },
    {
      "cell_type": "markdown",
      "source": [
        "##Indexación y Slicing de Arrays\n",
        "\n",
        "La indexación y el slicing son técnicas para acceder a elementos específicos de un array."
      ],
      "metadata": {
        "id": "UwcAw0v0MJOf"
      }
    },
    {
      "cell_type": "markdown",
      "source": [
        "###Indexación Básica:\n",
        "\n",
        "Puedes acceder a elementos individuales utilizando índices."
      ],
      "metadata": {
        "id": "GXqvSdOfMEJj"
      }
    },
    {
      "cell_type": "code",
      "source": [
        "array = np.array([1, 2, 3, 4, 5])\n",
        "print(array[0])  # Primer elemento\n",
        "print(array[-1])  # Último elemento"
      ],
      "metadata": {
        "colab": {
          "base_uri": "https://localhost:8080/"
        },
        "id": "8-xKMsmRLVGp",
        "outputId": "7bd2c198-fd83-49a1-c6df-edf8a5c29757"
      },
      "execution_count": 13,
      "outputs": [
        {
          "output_type": "stream",
          "name": "stdout",
          "text": [
            "1\n",
            "5\n"
          ]
        }
      ]
    },
    {
      "cell_type": "markdown",
      "source": [
        "###Slicing:\n",
        "\n",
        "Puedes acceder a subarrays utilizando la notación de slicing."
      ],
      "metadata": {
        "id": "kpZsAhXHMAAb"
      }
    },
    {
      "cell_type": "code",
      "source": [
        "array = np.array([1, 2, 3, 4, 5])\n",
        "print(array[1:4])  # Elementos del índice 1 al 3\n",
        "print(array[:3])  # Primeros tres elementos\n",
        "print(array[2:])  # Elementos desde el índice 2 hasta el final\n",
        "\n",
        "#[2 3 4]\n",
        "#[1 2 3]\n",
        "#[3 4 5]"
      ],
      "metadata": {
        "colab": {
          "base_uri": "https://localhost:8080/"
        },
        "id": "2kqlUFUkLYSP",
        "outputId": "27c7cc8a-e027-4c61-ac41-cae62a660262"
      },
      "execution_count": 14,
      "outputs": [
        {
          "output_type": "stream",
          "name": "stdout",
          "text": [
            "[2 3 4]\n",
            "[1 2 3]\n",
            "[3 4 5]\n"
          ]
        }
      ]
    },
    {
      "cell_type": "markdown",
      "source": [
        "###Indexación y Slicing en Arrays Multidimensionales:\n",
        "\n",
        "La indexación y el slicing funcionan de manera similar en arrays multidimensionales."
      ],
      "metadata": {
        "id": "r9gheS9oL7qD"
      }
    },
    {
      "cell_type": "code",
      "source": [
        "array = np.array([[1, 2, 3], [4, 5, 6], [7, 8, 9]])\n",
        "print(array[1, 2])  # Elemento en la fila 1, columna 2\n",
        "print(array[0:2, 1:3])  # Subarray desde fila 0 a 1 y columna 1 a 2\n",
        "\n",
        "#6\n",
        "#[[2 3]\n",
        "#[5 6]]"
      ],
      "metadata": {
        "colab": {
          "base_uri": "https://localhost:8080/"
        },
        "id": "yNUxhT9eLbVE",
        "outputId": "6a4e68a5-1c00-4256-9bdc-7ca6dcdffb97"
      },
      "execution_count": 15,
      "outputs": [
        {
          "output_type": "stream",
          "name": "stdout",
          "text": [
            "6\n",
            "[[2 3]\n",
            " [5 6]]\n"
          ]
        }
      ]
    },
    {
      "cell_type": "markdown",
      "source": [
        "##Agregaciones y Estadísticas\n",
        "\n",
        "NumPy proporciona funciones para realizar operaciones de agregación y calcular estadísticas básicas.\n"
      ],
      "metadata": {
        "id": "V34AWVbVL0Pm"
      }
    },
    {
      "cell_type": "markdown",
      "source": [
        "\n",
        "###Suma y Producto:\n",
        "\n",
        "Puedes calcular la suma y el producto de todos los elementos de un array."
      ],
      "metadata": {
        "id": "QFba6qmHMhlj"
      }
    },
    {
      "cell_type": "code",
      "source": [
        "array = np.array([1, 2, 3, 4, 5])\n",
        "print(np.sum(array))  # Suma de todos los elementos\n",
        "print(np.prod(array))  # Producto de todos los elementos\n",
        "\n",
        "# 15\n",
        "# 120"
      ],
      "metadata": {
        "colab": {
          "base_uri": "https://localhost:8080/"
        },
        "id": "aZmyPPjkLeXB",
        "outputId": "581dcbe4-0d0d-4699-97f8-68d5d507e21a"
      },
      "execution_count": 16,
      "outputs": [
        {
          "output_type": "stream",
          "name": "stdout",
          "text": [
            "15\n",
            "120\n"
          ]
        }
      ]
    },
    {
      "cell_type": "markdown",
      "source": [
        "###Estadísticas Básicas:\n",
        "\n",
        "NumPy también proporciona funciones para calcular estadísticas básicas."
      ],
      "metadata": {
        "id": "nrJ4wJj3Ls2j"
      }
    },
    {
      "cell_type": "code",
      "source": [
        "print(np.mean(array))  # Media (promedio)\n",
        "print(np.median(array))  # Mediana\n",
        "print(np.std(array))  # Desviación estándar\n",
        "print(np.var(array))  # Varianza\n",
        "\n",
        "# 3.0\n",
        "# 3.0\n",
        "# 1.4142135623730951\n",
        "# 2.0"
      ],
      "metadata": {
        "colab": {
          "base_uri": "https://localhost:8080/"
        },
        "id": "owZuaXQgLh5f",
        "outputId": "5de9f8a4-9261-4d23-c399-f36e8947fbbe"
      },
      "execution_count": 17,
      "outputs": [
        {
          "output_type": "stream",
          "name": "stdout",
          "text": [
            "3.0\n",
            "3.0\n",
            "1.4142135623730951\n",
            "2.0\n"
          ]
        }
      ]
    },
    {
      "cell_type": "markdown",
      "source": [
        "###Agregaciones en Arrays Multidimensionales:\n",
        "\n",
        "Puedes realizar agregaciones a lo largo de un eje específico en arrays multidimensionales."
      ],
      "metadata": {
        "id": "ifJ9etfhLmOW"
      }
    },
    {
      "cell_type": "code",
      "source": [
        "array = np.array([[1, 2, 3], [4, 5, 6], [7, 8, 9]])\n",
        "print(np.sum(array, axis=0))  # Suma a lo largo de las columnas\n",
        "print(np.sum(array, axis=1))  # Suma a lo largo de las filas\n",
        "\n",
        "# [12 15 18]\n",
        "# [ 6 15 24]"
      ],
      "metadata": {
        "colab": {
          "base_uri": "https://localhost:8080/"
        },
        "id": "X1sgFyAYLjS7",
        "outputId": "f7584709-e043-41a7-e8fd-0a7d4eef1648"
      },
      "execution_count": 18,
      "outputs": [
        {
          "output_type": "stream",
          "name": "stdout",
          "text": [
            "[12 15 18]\n",
            "[ 6 15 24]\n"
          ]
        }
      ]
    }
  ]
}