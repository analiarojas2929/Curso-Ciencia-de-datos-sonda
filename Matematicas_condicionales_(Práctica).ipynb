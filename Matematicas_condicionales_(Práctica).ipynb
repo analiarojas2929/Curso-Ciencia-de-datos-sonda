{
  "nbformat": 4,
  "nbformat_minor": 0,
  "metadata": {
    "colab": {
      "provenance": [],
      "authorship_tag": "ABX9TyOrP73Tar2xZocROFn3kMfx",
      "include_colab_link": true
    },
    "kernelspec": {
      "name": "python3",
      "display_name": "Python 3"
    },
    "language_info": {
      "name": "python"
    }
  },
  "cells": [
    {
      "cell_type": "markdown",
      "metadata": {
        "id": "view-in-github",
        "colab_type": "text"
      },
      "source": [
        "<a href=\"https://colab.research.google.com/github/analiarojas2929/Curso-Ciencia-de-datos-sonda/blob/main/Matematicas_condicionales_(Pr%C3%A1ctica).ipynb\" target=\"_parent\"><img src=\"https://colab.research.google.com/assets/colab-badge.svg\" alt=\"Open In Colab\"/></a>"
      ]
    },
    {
      "cell_type": "markdown",
      "source": [
        "###Ejercicio 1: Calculadora Básica\n",
        "\n",
        "Crea un programa que pida al usuario dos números y luego le ofrezca un menú para realizar operaciones básicas (suma, resta, multiplicación, división). El programa debe mostrar el resultado de la operación seleccionada"
      ],
      "metadata": {
        "id": "SMHJ8A1Q__UR"
      }
    },
    {
      "cell_type": "code",
      "source": [
        "def calculadora():\n",
        "    print(\"Calculadora Básica\")\n",
        "\n",
        "    # Captura los números del usuario\n",
        "    num1 = float(input(\"Ingresa el primer número: \"))\n",
        "    num2 = float(input(\"Ingresa el segundo número: \"))\n",
        "\n",
        "    # Muestra el menú de operaciones\n",
        "    print(\"Selecciona una operación:\")\n",
        "    print(\"1. Suma\")\n",
        "    print(\"2. Resta\")\n",
        "    print(\"3. Multiplicación\")\n",
        "    print(\"4. División\")\n",
        "\n",
        "    # Captura la opción seleccionada\n",
        "    opcion = input(\"Ingresa el número de la operación: \")\n",
        "\n",
        "    # Realiza la operación seleccionada\n",
        "    if opcion == \"1\":\n",
        "        resultado = num1 + num2\n",
        "        print(\"El resultado de la suma es:\", resultado)\n",
        "    elif opcion == \"2\":\n",
        "        resultado = num1 - num2\n",
        "        print(\"El resultado de la resta es:\", resultado)\n",
        "    elif opcion == \"3\":\n",
        "        resultado = num1 * num2\n",
        "        print(\"El resultado de la multiplicación es:\", resultado)\n",
        "    elif opcion == \"4\":\n",
        "        if num2 != 0:\n",
        "            resultado = num1 / num2\n",
        "            print(\"El resultado de la división es:\", resultado)\n",
        "        else:\n",
        "            print(\"Error: División por cero\")\n",
        "    else:\n",
        "        print(\"Opción no válida\")\n",
        "\n",
        "calculadora()"
      ],
      "metadata": {
        "colab": {
          "base_uri": "https://localhost:8080/"
        },
        "id": "DCptk7_yARi-",
        "outputId": "1cbe34e2-5ec1-4e7c-a52f-1d728f138a4b"
      },
      "execution_count": 1,
      "outputs": [
        {
          "output_type": "stream",
          "name": "stdout",
          "text": [
            "Calculadora Básica\n",
            "Ingresa el primer número: 34\n",
            "Ingresa el segundo número: 22\n",
            "Selecciona una operación:\n",
            "1. Suma\n",
            "2. Resta\n",
            "3. Multiplicación\n",
            "4. División\n",
            "Ingresa el número de la operación: 3\n",
            "El resultado de la multiplicación es: 748.0\n"
          ]
        }
      ]
    },
    {
      "cell_type": "markdown",
      "source": [
        "###Ejercicio 2: Determinar la Mayoría de Edad\n",
        "\n",
        "Crea un programa que pida al usuario su edad y determine si es mayor de edad (18 años o más)."
      ],
      "metadata": {
        "id": "pR_qrplfAV8P"
      }
    },
    {
      "cell_type": "code",
      "execution_count": 2,
      "metadata": {
        "colab": {
          "base_uri": "https://localhost:8080/"
        },
        "id": "bNNdKHUE_6et",
        "outputId": "64b32931-a771-4dd5-9518-7c891abe2bf1"
      },
      "outputs": [
        {
          "output_type": "stream",
          "name": "stdout",
          "text": [
            "¿Cuál es tu edad? 24\n",
            "Eres mayor de edad.\n"
          ]
        }
      ],
      "source": [
        "edad = int(input(\"¿Cuál es tu edad? \"))\n",
        "\n",
        "if edad >= 18:\n",
        "    print(\"Eres mayor de edad.\")\n",
        "else:\n",
        "    print(\"No eres mayor de edad.\")"
      ]
    },
    {
      "cell_type": "markdown",
      "source": [
        "###Ejercicio 3: Juego de Adivinanza\n",
        "\n",
        "Crea un juego donde el programa elija un número aleatorio entre 1 y 100 y el usuario tenga que adivinarlo. El programa debe indicar si el número ingresado por el usuario es mayor, menor o igual al número secreto."
      ],
      "metadata": {
        "id": "32y12hK1AfYJ"
      }
    },
    {
      "cell_type": "code",
      "source": [
        "import random\n",
        "\n",
        "numero_secreto = random.randint(1, 100)\n",
        "intentos = 0\n",
        "encontrado = False\n",
        "\n",
        "print(\"¡Bienvenido al juego de adivinanza!\")\n",
        "print(\"He seleccionado un número entre 1 y 100. ¡Adivina cuál es!\")\n",
        "\n",
        "while not encontrado:\n",
        "    intento = int(input(\"Ingresa tu número: \"))\n",
        "    intentos += 1\n",
        "\n",
        "    if intento < numero_secreto:\n",
        "        print(\"El número es mayor.\")\n",
        "    elif intento > numero_secreto:\n",
        "        print(\"El número es menor.\")\n",
        "    else:\n",
        "        print(f\"¡Felicidades! Has adivinado el número en {intentos} intentos.\")\n",
        "        encontrado = True"
      ],
      "metadata": {
        "colab": {
          "base_uri": "https://localhost:8080/"
        },
        "id": "EZyMWRP6Ahi_",
        "outputId": "d65c7317-050b-4787-92f3-f90f10d338d0"
      },
      "execution_count": 4,
      "outputs": [
        {
          "output_type": "stream",
          "name": "stdout",
          "text": [
            "¡Bienvenido al juego de adivinanza!\n",
            "He seleccionado un número entre 1 y 100. ¡Adivina cuál es!\n",
            "Ingresa tu número: 80\n",
            "El número es mayor.\n",
            "Ingresa tu número: 90\n",
            "El número es menor.\n",
            "Ingresa tu número: 83\n",
            "El número es mayor.\n",
            "Ingresa tu número: 84\n",
            "El número es mayor.\n",
            "Ingresa tu número: 86\n",
            "El número es mayor.\n",
            "Ingresa tu número: 88\n",
            "El número es mayor.\n",
            "Ingresa tu número: 89\n",
            "¡Felicidades! Has adivinado el número en 7 intentos.\n"
          ]
        }
      ]
    },
    {
      "cell_type": "markdown",
      "source": [
        "###Ejercicio 4: Comparación de Tres Números\n",
        "\n",
        "Crea un programa que pida al usuario tres números y determine cuál es el mayor."
      ],
      "metadata": {
        "id": "EmRYfqKeAm3A"
      }
    },
    {
      "cell_type": "code",
      "source": [
        "num1 = float(input(\"Ingresa el primer número: \"))\n",
        "num2 = float(input(\"Ingresa el segundo número: \"))\n",
        "num3 = float(input(\"Ingresa el tercer número: \"))\n",
        "\n",
        "if num1 >= num2 and num1 >= num3:\n",
        "    print(\"El primer número es el mayor.\")\n",
        "elif num2 >= num1 and num2 >= num3:\n",
        "    print(\"El segundo número es el mayor.\")\n",
        "else:\n",
        "    print(\"El tercer número es el mayor.\")"
      ],
      "metadata": {
        "colab": {
          "base_uri": "https://localhost:8080/"
        },
        "id": "NRDuRSTCBO-M",
        "outputId": "0434a258-3746-44c1-8c30-4c5e781041b9"
      },
      "execution_count": 5,
      "outputs": [
        {
          "output_type": "stream",
          "name": "stdout",
          "text": [
            "Ingresa el primer número: 39\n",
            "Ingresa el segundo número: 43\n",
            "Ingresa el tercer número: 60\n",
            "El tercer número es el mayor.\n"
          ]
        }
      ]
    }
  ]
}